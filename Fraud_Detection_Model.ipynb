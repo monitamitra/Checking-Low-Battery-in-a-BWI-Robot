{
  "nbformat": 4,
  "nbformat_minor": 0,
  "metadata": {
    "colab": {
      "provenance": [],
      "mount_file_id": "1Fd8IBGmAAokVlLgs6uRgeJAMnHfXKCH4",
      "authorship_tag": "ABX9TyNXifclBmWDcvlbD60XcGE4",
      "include_colab_link": true
    },
    "kernelspec": {
      "name": "python3",
      "display_name": "Python 3"
    },
    "language_info": {
      "name": "python"
    }
  },
  "cells": [
    {
      "cell_type": "markdown",
      "metadata": {
        "id": "view-in-github",
        "colab_type": "text"
      },
      "source": [
        "<a href=\"https://colab.research.google.com/github/monitamitra/Checking-Low-Battery-in-a-BWI-Robot/blob/main/Fraud_Detection_Model.ipynb\" target=\"_parent\"><img src=\"https://colab.research.google.com/assets/colab-badge.svg\" alt=\"Open In Colab\"/></a>"
      ]
    },
    {
      "cell_type": "code",
      "execution_count": 1,
      "metadata": {
        "id": "RJ4Mxdt8V3yQ"
      },
      "outputs": [],
      "source": [
        "# Data processing & modeling imports\n",
        "import pandas as pd\n",
        "from sklearn.ensemble import RandomForestClassifier\n",
        "from sklearn.metrics import accuracy_score, precision_score\n",
        "from sklearn.model_selection import RandomizedSearchCV, train_test_split"
      ]
    },
    {
      "cell_type": "code",
      "source": [
        "# Load and split data\n",
        "transac_data = pd.read_csv('/content/drive/MyDrive/fraudTrain.csv')\n",
        "\n",
        "# Split the data into features (X) and target (y)\n",
        "X = transac_data.drop('is_fraud', axis=1)\n",
        "Y = transac_data['is_fraud']"
      ],
      "metadata": {
        "id": "PLdHkAKgqTcr"
      },
      "execution_count": 5,
      "outputs": []
    }
  ]
}